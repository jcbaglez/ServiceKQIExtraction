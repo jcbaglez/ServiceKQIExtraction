{
 "cells": [
  {
   "cell_type": "code",
   "execution_count": 3,
   "metadata": {},
   "outputs": [],
   "source": [
    "d = {'Video ID ': 'o_24LPjOIHI ', ' sCPN': ' 3YQC 906J JQV1', 'Viewport ': '640x360*1.50 ', ' Frames': ' 3 dropped of 102', 'Current ': '854x480@30 ', ' Optimal Res': ' 854x480@30', 'Volume ': '100% ', ' Normalized': ' 60% (content loudness 4.5dB)', 'Codecs': 'vp09.00.51.08.01.01.01.01.00 (244) / opus (251)', 'Connection Speed': '4334 Kbps', 'Network Activity': '2320 KB', 'Buffer Health': '16.99 s',  'Mystery Text': 's:8 t:3.26 b:0.000-20.001', 'Current Seek': ''}"
   ]
  },
  {
   "cell_type": "code",
   "execution_count": 7,
   "metadata": {},
   "outputs": [
    {
     "data": {
      "text/plain": [
       "{'Video ID ': 'o_24LPjOIHI ',\n",
       " ' sCPN': ' 3YQC 906J JQV1',\n",
       " 'Viewport ': '640x360*1.50 ',\n",
       " ' Frames': ' 3 dropped of 102',\n",
       " 'Current ': '854x480@30 ',\n",
       " ' Optimal Res': ' 854x480@30',\n",
       " 'Volume ': '100% ',\n",
       " ' Normalized': ' 60% (content loudness 4.5dB)',\n",
       " 'Codecs': 'vp09.00.51.08.01.01.01.01.00 (244) / opus (251)',\n",
       " 'Connection Speed': '4334 Kbps',\n",
       " 'Network Activity': '2320 KB',\n",
       " 'Buffer Health': '16.99 s',\n",
       " 'Mystery Text': 's:8 t:3.26 b:0.000-20.001',\n",
       " 'Current Seek': ''}"
      ]
     },
     "execution_count": 7,
     "metadata": {},
     "output_type": "execute_result"
    }
   ],
   "source": [
    "d"
   ]
  },
  {
   "cell_type": "code",
   "execution_count": 19,
   "metadata": {},
   "outputs": [
    {
     "data": {
      "text/plain": [
       "{'Video ID ': 'o_24LPjOIHI ',\n",
       " ' sCPN': ' 3YQC 906J JQV1',\n",
       " 'Viewport ': '640x360',\n",
       " ' Frames': ' 3 dropped of 102',\n",
       " 'Current ': '854x480@30 ',\n",
       " ' Optimal Res': ' 854x480@30',\n",
       " 'Volume ': '100% ',\n",
       " ' Normalized': ' 60% (content loudness 4.5dB)',\n",
       " 'Codecs': 'vp09.00.51.08.01.01.01.01.00 (244) / opus (251)',\n",
       " 'Connection Speed': '4334 Kbps',\n",
       " 'Network Activity': '2320 KB',\n",
       " 'Buffer Health': '16.99 s',\n",
       " 'Mystery Text': 's:8 t:3.26 b:0.000-20.001',\n",
       " 'Current Seek': '',\n",
       " 'Resolution_showed': '360p'}"
      ]
     },
     "execution_count": 19,
     "metadata": {},
     "output_type": "execute_result"
    }
   ],
   "source": [
    "aux = d['Viewport ']\n",
    "aux.split(\"*\")\n",
    "d['Viewport '] = d['Viewport '].split(\"*\")[0]\n",
    "\n",
    "\n",
    "\n",
    "\n",
    "v =aux.split(\"x\")[1]\n",
    "d['Resolution_showed'] = res[aux.split(\"x\")[1]]\n",
    "d"
   ]
  },
  {
   "cell_type": "code",
   "execution_count": 23,
   "metadata": {},
   "outputs": [
    {
     "data": {
      "text/plain": [
       "'480p'"
      ]
     },
     "execution_count": 23,
     "metadata": {},
     "output_type": "execute_result"
    }
   ],
   "source": [
    "aux = d[\"Current \"]\n",
    "dat= aux.split(\"@\")\n",
    "reso = dat[0]\n",
    "fps = dat[1]\n",
    "#print(res[reso.split['x'][0]])\n",
    "res[reso.split('x')[1]]"
   ]
  },
  {
   "cell_type": "code",
   "execution_count": null,
   "metadata": {},
   "outputs": [],
   "source": [
    "def resolutionValues(values):\n",
    "    if(values.find(\"@\")):\n",
    "        data = values.split(\"@\")\n",
    "        try:\n",
    "            fps = int(data[1])\n",
    "        except:\n",
    "            fps = data[1].strip()\n",
    "    elif(values.find(\"*\")):\n",
    "        data = values.split(\"*\")\n",
    "        fps = None\n",
    "    else:\n",
    "        return {}\n",
    "    resolution = res[data[0].split('x')[1]]\n",
    "        \n",
    "        v = {'Resolution': resolution, 'FPS': fps}\n",
    "    elif (len(values.split(\"*\"))>1):\n",
    "        resolution = res[data[0].split('x')[1]]"
   ]
  },
  {
   "cell_type": "code",
   "execution_count": 15,
   "metadata": {},
   "outputs": [],
   "source": [
    "res= {'144':'144p', \n",
    "     '240' : '240p',\n",
    "     '360': '360p',\n",
    "     '480': '480p',\n",
    "     '720': '720p',\n",
    "     '1080': '1080p',\n",
    "     '1440': '2K',\n",
    "     '2160': '4K'}"
   ]
  },
  {
   "cell_type": "code",
   "execution_count": 17,
   "metadata": {},
   "outputs": [
    {
     "data": {
      "text/plain": [
       "'360p'"
      ]
     },
     "execution_count": 17,
     "metadata": {},
     "output_type": "execute_result"
    }
   ],
   "source": [
    "res[v]"
   ]
  },
  {
   "cell_type": "code",
   "execution_count": null,
   "metadata": {},
   "outputs": [],
   "source": []
  }
 ],
 "metadata": {
  "kernelspec": {
   "display_name": "Python 3",
   "language": "python",
   "name": "python3"
  },
  "language_info": {
   "codemirror_mode": {
    "name": "ipython",
    "version": 3
   },
   "file_extension": ".py",
   "mimetype": "text/x-python",
   "name": "python",
   "nbconvert_exporter": "python",
   "pygments_lexer": "ipython3",
   "version": "3.7.4"
  }
 },
 "nbformat": 4,
 "nbformat_minor": 4
}
